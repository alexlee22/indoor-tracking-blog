{
 "cells": [
  {
   "cell_type": "code",
   "execution_count": null,
   "metadata": {
    "collapsed": true
   },
   "outputs": [],
   "source": [
    "import pandas as pd\n",
    "import numpy as np\n",
    "import plotly.plotly as py\n",
    "import plotly.graph_objs as go"
   ]
  },
  {
   "cell_type": "code",
   "execution_count": null,
   "metadata": {
    "collapsed": false
   },
   "outputs": [],
   "source": [
    "N = 100.0\n",
    "r = dict( r = [ np.random.poisson(N)*(np.cos((i/4)*np.pi/180)) for i in range(360) ] )\n",
    "df = pd.DataFrame(r)\n",
    "df_ma = pd.ewma(df,4.0)\n",
    "df_ma.head()"
   ]
  },
  {
   "cell_type": "code",
   "execution_count": null,
   "metadata": {
    "collapsed": false
   },
   "outputs": [],
   "source": [
    "data = []\n",
    "data.append(\n",
    "    go.Scatter(\n",
    "        t=df.index,\n",
    "        r=df['r'],\n",
    "        name = 'Scatter',\n",
    "        mode='markers',\n",
    "        marker=dict(\n",
    "            color='rgb(255,78,252)',\n",
    "            size=8 )\n",
    "    ) )\n",
    "data.append(\n",
    "    go.Scatter(\n",
    "        t=df_ma.index,\n",
    "        r=df_ma['r'],\n",
    "        name = 'Moving average',\n",
    "        mode='lines',\n",
    "        line=dict(color='rgb(69,124,235)'),\n",
    "        marker=dict(\n",
    "            color='rgb(69,124,235)',\n",
    "            line=Line(width=2,\n",
    "            color='rgb(69,124,235)') ),\n",
    "    ) )\n",
    "layout = go.Layout(\n",
    "    angularaxis=dict(\n",
    "        tickcolor='#CCC',\n",
    "        showline=False,\n",
    "    ),\n",
    "    orientation=270\n",
    ")"
   ]
  },
  {
   "cell_type": "code",
   "execution_count": null,
   "metadata": {
    "collapsed": true
   },
   "outputs": [],
   "source": [
    "fig = go.Figure(data=data, layout=layout)\n",
    "\n",
    "# IPython notebook\n",
    "# py.iplot(fig, filename='pandas-polar-chart')\n",
    "\n",
    "url = py.plot(fig, filename='pandas-polar-chart')"
   ]
  },
  {
   "cell_type": "code",
   "execution_count": null,
   "metadata": {
    "collapsed": true
   },
   "outputs": [],
   "source": []
  }
 ],
 "metadata": {
  "kernelspec": {
   "display_name": "Python [Root]",
   "language": "python",
   "name": "Python [Root]"
  },
  "language_info": {
   "codemirror_mode": {
    "name": "ipython",
    "version": 2
   },
   "file_extension": ".py",
   "mimetype": "text/x-python",
   "name": "python",
   "nbconvert_exporter": "python",
   "pygments_lexer": "ipython2",
   "version": "2.7.12"
  }
 },
 "nbformat": 4,
 "nbformat_minor": 0
}
