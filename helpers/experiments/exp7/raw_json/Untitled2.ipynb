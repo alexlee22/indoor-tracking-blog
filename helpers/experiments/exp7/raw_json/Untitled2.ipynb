{
 "cells": [
  {
   "cell_type": "code",
   "execution_count": null,
   "metadata": {
    "collapsed": true
   },
   "outputs": [],
   "source": [
    "import mpl_toolkits.axisartist.floating_axes as floating_axes\n",
    "from matplotlib.projections import PolarAxes\n",
    "from mpl_toolkits.axisartist.grid_finder import FixedLocator, \\\n",
    "     MaxNLocator, DictFormatter\n",
    "import numpy as np\n",
    "import matplotlib.pyplot as plt"
   ]
  },
  {
   "cell_type": "code",
   "execution_count": null,
   "metadata": {
    "collapsed": true
   },
   "outputs": [],
   "source": [
    "# generate 100 random data points\n",
    "# order the theta coordinates\n",
    "\n",
    "# theta between 0 and 2*pi\n",
    "theta = np.random.rand(100)*2.*np.pi\n",
    "theta = np.sort(theta)\n",
    "\n"
   ]
  },
  {
   "cell_type": "code",
   "execution_count": null,
   "metadata": {
    "collapsed": true
   },
   "outputs": [],
   "source": [
    "# \"radius\" between 0 and a max value of 40,000\n",
    "# as roughly in your example\n",
    "# normalize the r coordinates and offset by 1 (will be clear later)\n",
    "MAX_R = 40000.\n",
    "radius = np.random.rand(100)*MAX_R\n",
    "radius = radius/np.max(radius) + 1.\n",
    "\n",
    "# initialize figure:\n",
    "fig = plt.figure()\n",
    "\n",
    "# set up polar axis\n",
    "tr = PolarAxes.PolarTransform()\n",
    "\n",
    "# define angle ticks around the circumference:\n",
    "angle_ticks = [(0, r\"$0$\"),\n",
    "               (.25*np.pi, r\"$\\frac{1}{4}\\pi$\"),\n",
    "               (.5*np.pi, r\"$\\frac{1}{2}\\pi$\"), \n",
    "               (.75*np.pi, r\"$\\frac{3}{4}\\pi$\"),\n",
    "               (1.*np.pi, r\"$\\pi$\"),\n",
    "               (1.25*np.pi, r\"$\\frac{5}{4}\\pi$\"),\n",
    "               (1.5*np.pi, r\"$\\frac{3}{2}\\pi$\"),\n",
    "               (1.75*np.pi, r\"$\\frac{7}{4}\\pi$\")]\n",
    "\n",
    "# set up ticks and spacing around the circle\n",
    "grid_locator1 = FixedLocator([v for v, s in angle_ticks])\n",
    "tick_formatter1 = DictFormatter(dict(angle_ticks))\n",
    "\n",
    "# set up grid spacing along the 'radius'\n",
    "radius_ticks = [(1., '0.0'),\n",
    "                (1.5, '%i' % (MAX_R/2.)),\n",
    "                (2.0, '%i' % (MAX_R))]\n",
    "\n",
    "grid_locator2 = FixedLocator([v for v, s in radius_ticks])\n",
    "tick_formatter2 = DictFormatter(dict(radius_ticks))\n",
    "\n",
    "# set up axis:\n",
    "# tr: the polar axis setup\n",
    "# extremes: theta max, theta min, r max, r min\n",
    "# the grid for the theta axis\n",
    "# the grid for the r axis\n",
    "# the tick formatting for the theta axis\n",
    "# the tick formatting for the r axis\n",
    "grid_helper = floating_axes.GridHelperCurveLinear(tr,\n",
    "                                                  extremes=(2.*np.pi, 0, 2, 1),\n",
    "                                                  grid_locator1=grid_locator1,\n",
    "                                                  grid_locator2=grid_locator2,\n",
    "                                                  tick_formatter1=tick_formatter1,\n",
    "                                                  tick_formatter2=tick_formatter2)\n",
    "\n",
    "ax1 = floating_axes.FloatingSubplot(fig, 111, grid_helper=grid_helper)\n",
    "fig.add_subplot(ax1)\n",
    "\n",
    "# create a parasite axes whose transData in RA, cz\n",
    "aux_ax = ax1.get_aux_axes(tr)\n",
    "\n",
    "aux_ax.patch = ax1.patch # for aux_ax to have a clip path as in ax\n",
    "ax1.patch.zorder=0.9 # but this has a side effect that the patch is\n",
    "                     # drawn twice, and possibly over some other\n",
    "                     # artists. So, we decrease the zorder a bit to\n",
    "                     # prevent this."
   ]
  },
  {
   "cell_type": "code",
   "execution_count": null,
   "metadata": {
    "collapsed": true
   },
   "outputs": [],
   "source": [
    "# plot your data:\n",
    "aux_ax.plot(theta, radius)\n",
    "plt.show()  "
   ]
  },
  {
   "cell_type": "code",
   "execution_count": null,
   "metadata": {
    "collapsed": true
   },
   "outputs": [],
   "source": []
  }
 ],
 "metadata": {
  "kernelspec": {
   "display_name": "Python [Root]",
   "language": "python",
   "name": "Python [Root]"
  },
  "language_info": {
   "codemirror_mode": {
    "name": "ipython",
    "version": 2
   },
   "file_extension": ".py",
   "mimetype": "text/x-python",
   "name": "python",
   "nbconvert_exporter": "python",
   "pygments_lexer": "ipython2",
   "version": "2.7.12"
  }
 },
 "nbformat": 4,
 "nbformat_minor": 0
}
