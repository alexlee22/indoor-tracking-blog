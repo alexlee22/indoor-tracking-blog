{
 "cells": [
  {
   "cell_type": "code",
   "execution_count": 1,
   "metadata": {
    "collapsed": true
   },
   "outputs": [],
   "source": [
    "import pandas\n",
    "import matplotlib.pyplot as plt\n",
    "import matplotlib\n",
    "from matplotlib.dates import DateFormatter\n",
    "import datetime\n",
    "import dateutil.parser"
   ]
  },
  {
   "cell_type": "code",
   "execution_count": 2,
   "metadata": {
    "collapsed": true
   },
   "outputs": [],
   "source": [
    "%matplotlib inline\n",
    "matplotlib.rcParams['figure.figsize'] = (20.0, 10.0)"
   ]
  },
  {
   "cell_type": "code",
   "execution_count": 4,
   "metadata": {
    "collapsed": false
   },
   "outputs": [],
   "source": [
    "experiment_data = pandas.read_json(\"experiments/exp7/raw_json/\"+\"fourmetre.json\")"
   ]
  },
  {
   "cell_type": "code",
   "execution_count": 6,
   "metadata": {
    "collapsed": true
   },
   "outputs": [],
   "source": [
    "def convert_timestring(row):\n",
    "    return dateutil.parser.parse(row.time)"
   ]
  },
  {
   "cell_type": "code",
   "execution_count": 7,
   "metadata": {
    "collapsed": true
   },
   "outputs": [],
   "source": [
    "experiment_data[\"timestamp\"] = experiment_data.apply (lambda row: convert_timestring(row), axis=1)"
   ]
  },
  {
   "cell_type": "code",
   "execution_count": 15,
   "metadata": {
    "collapsed": false
   },
   "outputs": [
    {
     "name": "stdout",
     "output_type": "stream",
     "text": [
      "between 2016-07-12 03:30:00 and 2016-07-12 03:31:00\n"
     ]
    }
   ],
   "source": [
    "after_time  = dateutil.parser.parse('2016-07-12T03:30:00.0')\n",
    "before_time = after_time + datetime.timedelta(minutes=1)\n",
    "\n",
    "print \"between {} and {}\".format(after_time, before_time)"
   ]
  },
  {
   "cell_type": "code",
   "execution_count": 17,
   "metadata": {
    "collapsed": false
   },
   "outputs": [
    {
     "name": "stdout",
     "output_type": "stream",
     "text": [
      "            agentId  major  minor  rssi                        time  tx  \\\n",
      "883  RPi four metre      5      5   -71  2016-07-12T03:30:00.118728 -58   \n",
      "884  RPi four metre      5      5   -65  2016-07-12T03:30:03.937096 -58   \n",
      "885  RPi four metre   9752  43912   -96  2016-07-12T03:30:04.049621 -65   \n",
      "886  RPi four metre      5      5   -70  2016-07-12T03:30:04.888516 -58   \n",
      "887  RPi four metre      5      5   -66  2016-07-12T03:30:05.839763 -58   \n",
      "888  RPi four metre      5      5   -74  2016-07-12T03:30:06.797889 -58   \n",
      "889  RPi four metre      5      5   -86  2016-07-12T03:30:07.749871 -58   \n",
      "890  RPi four metre      5      5   -71  2016-07-12T03:30:08.709738 -58   \n",
      "891  RPi four metre   9752  43912   -85  2016-07-12T03:30:09.626890 -65   \n",
      "892  RPi four metre      5      5   -82  2016-07-12T03:30:10.622611 -58   \n",
      "893  RPi four metre   9752  43912   -89  2016-07-12T03:30:11.899524 -65   \n",
      "894  RPi four metre      5      5   -76  2016-07-12T03:30:12.528948 -58   \n",
      "895  RPi four metre      5      5   -64  2016-07-12T03:30:14.439494 -58   \n",
      "896  RPi four metre      5      5   -70  2016-07-12T03:30:15.390697 -58   \n",
      "897  RPi four metre      5      5   -60  2016-07-12T03:30:16.340643 -58   \n",
      "898  RPi four metre      5      5   -68  2016-07-12T03:30:18.244432 -58   \n",
      "899  RPi four metre      5      5   -75  2016-07-12T03:30:19.200356 -58   \n",
      "900  RPi four metre      5      5   -70  2016-07-12T03:30:20.156030 -58   \n",
      "901  RPi four metre      5      5   -57  2016-07-12T03:30:23.021768 -58   \n",
      "902  RPi four metre      5      5   -61  2016-07-12T03:30:24.925111 -58   \n",
      "903  RPi four metre      5      5   -61  2016-07-12T03:30:25.874818 -58   \n",
      "904  RPi four metre   9752  43912   -95  2016-07-12T03:30:26.552509 -65   \n",
      "905  RPi four metre      5      5   -86  2016-07-12T03:30:26.832120 -58   \n",
      "906  RPi four metre      5      5   -77  2016-07-12T03:30:27.785714 -58   \n",
      "907  RPi four metre      5      5   -61  2016-07-12T03:30:28.736263 -58   \n",
      "908  RPi four metre      5      5   -62  2016-07-12T03:30:29.686913 -58   \n",
      "909  RPi four metre      5      5   -73  2016-07-12T03:30:30.645437 -58   \n",
      "910  RPi four metre   9752  43912   -85  2016-07-12T03:30:32.029696 -65   \n",
      "911  RPi four metre      5      5   -78  2016-07-12T03:30:33.511292 -58   \n",
      "912  RPi four metre      5      5   -73  2016-07-12T03:30:34.468051 -58   \n",
      "913  RPi four metre      5      5   -64  2016-07-12T03:30:35.426275 -58   \n",
      "914  RPi four metre      5      5   -74  2016-07-12T03:30:36.381375 -58   \n",
      "915  RPi four metre      5      5   -66  2016-07-12T03:30:37.334635 -58   \n",
      "916  RPi four metre      5      5   -60  2016-07-12T03:30:38.294237 -58   \n",
      "917  RPi four metre      5      5   -67  2016-07-12T03:30:39.249916 -58   \n",
      "918  RPi four metre      5      5   -69  2016-07-12T03:30:40.204476 -58   \n",
      "919  RPi four metre   9752  43912   -92  2016-07-12T03:30:41.909150 -65   \n",
      "920  RPi four metre      5      5   -57  2016-07-12T03:30:42.115604 -58   \n",
      "921  RPi four metre      5      5   -58  2016-07-12T03:30:43.074316 -58   \n",
      "922  RPi four metre   9752  43912   -88  2016-07-12T03:30:43.329480 -65   \n",
      "923  RPi four metre      5      5   -59  2016-07-12T03:30:44.034260 -58   \n",
      "924  RPi four metre   9752  43912   -96  2016-07-12T03:30:44.969393 -65   \n",
      "925  RPi four metre      5      5   -57  2016-07-12T03:30:46.896350 -58   \n",
      "926  RPi four metre      5      5   -74  2016-07-12T03:30:47.852442 -58   \n",
      "927  RPi four metre      5      5   -62  2016-07-12T03:30:48.805032 -58   \n",
      "928  RPi four metre      5      5   -69  2016-07-12T03:30:49.755433 -58   \n",
      "929  RPi four metre      5      5   -56  2016-07-12T03:30:51.670289 -58   \n",
      "930  RPi four metre   9752  43912   -85  2016-07-12T03:30:51.816775 -65   \n",
      "931  RPi four metre      5      5   -56  2016-07-12T03:30:52.624976 -58   \n",
      "932  RPi four metre      5      5   -58  2016-07-12T03:30:53.577946 -58   \n",
      "933  RPi four metre      5      5   -58  2016-07-12T03:30:54.536336 -58   \n",
      "934  RPi four metre   9752  43912   -92  2016-07-12T03:30:55.227949 -65   \n",
      "935  RPi four metre      5      5   -56  2016-07-12T03:30:56.444630 -58   \n",
      "936  RPi four metre      5      5   -70  2016-07-12T03:30:57.398617 -58   \n",
      "937  RPi four metre      5      5   -54  2016-07-12T03:30:58.357404 -58   \n",
      "\n",
      "                                 uuid                  timestamp  \n",
      "883  d0d3fa86ca7645ec9bd96af400000005 2016-07-12 03:30:00.118728  \n",
      "884  d0d3fa86ca7645ec9bd96af400000005 2016-07-12 03:30:03.937096  \n",
      "885  d0d3fa86ca7645ec9bd96af4022e7550 2016-07-12 03:30:04.049621  \n",
      "886  d0d3fa86ca7645ec9bd96af400000005 2016-07-12 03:30:04.888516  \n",
      "887  d0d3fa86ca7645ec9bd96af400000005 2016-07-12 03:30:05.839763  \n",
      "888  d0d3fa86ca7645ec9bd96af400000005 2016-07-12 03:30:06.797889  \n",
      "889  d0d3fa86ca7645ec9bd96af400000005 2016-07-12 03:30:07.749871  \n",
      "890  d0d3fa86ca7645ec9bd96af400000005 2016-07-12 03:30:08.709738  \n",
      "891  d0d3fa86ca7645ec9bd96af4022e7550 2016-07-12 03:30:09.626890  \n",
      "892  d0d3fa86ca7645ec9bd96af400000005 2016-07-12 03:30:10.622611  \n",
      "893  d0d3fa86ca7645ec9bd96af4022e7550 2016-07-12 03:30:11.899524  \n",
      "894  d0d3fa86ca7645ec9bd96af400000005 2016-07-12 03:30:12.528948  \n",
      "895  d0d3fa86ca7645ec9bd96af400000005 2016-07-12 03:30:14.439494  \n",
      "896  d0d3fa86ca7645ec9bd96af400000005 2016-07-12 03:30:15.390697  \n",
      "897  d0d3fa86ca7645ec9bd96af400000005 2016-07-12 03:30:16.340643  \n",
      "898  d0d3fa86ca7645ec9bd96af400000005 2016-07-12 03:30:18.244432  \n",
      "899  d0d3fa86ca7645ec9bd96af400000005 2016-07-12 03:30:19.200356  \n",
      "900  d0d3fa86ca7645ec9bd96af400000005 2016-07-12 03:30:20.156030  \n",
      "901  d0d3fa86ca7645ec9bd96af400000005 2016-07-12 03:30:23.021768  \n",
      "902  d0d3fa86ca7645ec9bd96af400000005 2016-07-12 03:30:24.925111  \n",
      "903  d0d3fa86ca7645ec9bd96af400000005 2016-07-12 03:30:25.874818  \n",
      "904  d0d3fa86ca7645ec9bd96af4022e7550 2016-07-12 03:30:26.552509  \n",
      "905  d0d3fa86ca7645ec9bd96af400000005 2016-07-12 03:30:26.832120  \n",
      "906  d0d3fa86ca7645ec9bd96af400000005 2016-07-12 03:30:27.785714  \n",
      "907  d0d3fa86ca7645ec9bd96af400000005 2016-07-12 03:30:28.736263  \n",
      "908  d0d3fa86ca7645ec9bd96af400000005 2016-07-12 03:30:29.686913  \n",
      "909  d0d3fa86ca7645ec9bd96af400000005 2016-07-12 03:30:30.645437  \n",
      "910  d0d3fa86ca7645ec9bd96af4022e7550 2016-07-12 03:30:32.029696  \n",
      "911  d0d3fa86ca7645ec9bd96af400000005 2016-07-12 03:30:33.511292  \n",
      "912  d0d3fa86ca7645ec9bd96af400000005 2016-07-12 03:30:34.468051  \n",
      "913  d0d3fa86ca7645ec9bd96af400000005 2016-07-12 03:30:35.426275  \n",
      "914  d0d3fa86ca7645ec9bd96af400000005 2016-07-12 03:30:36.381375  \n",
      "915  d0d3fa86ca7645ec9bd96af400000005 2016-07-12 03:30:37.334635  \n",
      "916  d0d3fa86ca7645ec9bd96af400000005 2016-07-12 03:30:38.294237  \n",
      "917  d0d3fa86ca7645ec9bd96af400000005 2016-07-12 03:30:39.249916  \n",
      "918  d0d3fa86ca7645ec9bd96af400000005 2016-07-12 03:30:40.204476  \n",
      "919  d0d3fa86ca7645ec9bd96af4022e7550 2016-07-12 03:30:41.909150  \n",
      "920  d0d3fa86ca7645ec9bd96af400000005 2016-07-12 03:30:42.115604  \n",
      "921  d0d3fa86ca7645ec9bd96af400000005 2016-07-12 03:30:43.074316  \n",
      "922  d0d3fa86ca7645ec9bd96af4022e7550 2016-07-12 03:30:43.329480  \n",
      "923  d0d3fa86ca7645ec9bd96af400000005 2016-07-12 03:30:44.034260  \n",
      "924  d0d3fa86ca7645ec9bd96af4022e7550 2016-07-12 03:30:44.969393  \n",
      "925  d0d3fa86ca7645ec9bd96af400000005 2016-07-12 03:30:46.896350  \n",
      "926  d0d3fa86ca7645ec9bd96af400000005 2016-07-12 03:30:47.852442  \n",
      "927  d0d3fa86ca7645ec9bd96af400000005 2016-07-12 03:30:48.805032  \n",
      "928  d0d3fa86ca7645ec9bd96af400000005 2016-07-12 03:30:49.755433  \n",
      "929  d0d3fa86ca7645ec9bd96af400000005 2016-07-12 03:30:51.670289  \n",
      "930  d0d3fa86ca7645ec9bd96af4022e7550 2016-07-12 03:30:51.816775  \n",
      "931  d0d3fa86ca7645ec9bd96af400000005 2016-07-12 03:30:52.624976  \n",
      "932  d0d3fa86ca7645ec9bd96af400000005 2016-07-12 03:30:53.577946  \n",
      "933  d0d3fa86ca7645ec9bd96af400000005 2016-07-12 03:30:54.536336  \n",
      "934  d0d3fa86ca7645ec9bd96af4022e7550 2016-07-12 03:30:55.227949  \n",
      "935  d0d3fa86ca7645ec9bd96af400000005 2016-07-12 03:30:56.444630  \n",
      "936  d0d3fa86ca7645ec9bd96af400000005 2016-07-12 03:30:57.398617  \n",
      "937  d0d3fa86ca7645ec9bd96af400000005 2016-07-12 03:30:58.357404  \n",
      "55\n"
     ]
    }
   ],
   "source": [
    "filtered_data = experiment_data[(experiment_data.timestamp > after_time) & (experiment_data.timestamp < before_time)]\n",
    "\n",
    "print filtered_data\n",
    "print len(filtered_data)"
   ]
  },
  {
   "cell_type": "code",
   "execution_count": 11,
   "metadata": {
    "collapsed": false
   },
   "outputs": [
    {
     "data": {
      "text/plain": [
       "<matplotlib.axes._subplots.AxesSubplot at 0x9fe64a8>"
      ]
     },
     "execution_count": 11,
     "metadata": {},
     "output_type": "execute_result"
    },
    {
     "data": {
      "image/png": "[encoded data removed]",
      "text/plain": [
       "<matplotlib.figure.Figure at 0x9a8b1d0>"
      ]
     },
     "metadata": {},
     "output_type": "display_data"
    }
   ],
   "source": [
    "filtered_data.rssi.hist()"
   ]
  },
  {
   "cell_type": "code",
   "execution_count": null,
   "metadata": {
    "collapsed": true
   },
   "outputs": [],
   "source": []
  }
 ],
 "metadata": {
  "anaconda-cloud": {},
  "kernelspec": {
   "display_name": "Python [Root]",
   "language": "python",
   "name": "Python [Root]"
  },
  "language_info": {
   "codemirror_mode": {
    "name": "ipython",
    "version": 2
   },
   "file_extension": ".py",
   "mimetype": "text/x-python",
   "name": "python",
   "nbconvert_exporter": "python",
   "pygments_lexer": "ipython2",
   "version": "2.7.12"
  }
 },
 "nbformat": 4,
 "nbformat_minor": 0
}
