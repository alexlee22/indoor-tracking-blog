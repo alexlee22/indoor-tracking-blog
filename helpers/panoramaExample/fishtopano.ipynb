{
 "metadata": {
  "name": "",
  "signature": "sha256:3f1992a018ac36369db7e66dccb8bfcaa186380bee4b02384531571cf377e341"
 },
 "nbformat": 3,
 "nbformat_minor": 0,
 "worksheets": [
  {
   "cells": [
    {
     "cell_type": "code",
     "collapsed": false,
     "input": [
      "import PythonMagick\n",
      "import os\n",
      "\n",
      "image = PythonMagick.Image(\"mirror.jpg\")\n",
      "print image.fileName()\n",
      "print image.magick()\n",
      "print image.size().width()\n",
      "print image.size().height()"
     ],
     "language": "python",
     "metadata": {},
     "outputs": [
      {
       "output_type": "stream",
       "stream": "stdout",
       "text": [
        "mirror.jpg\n",
        "JPEG\n",
        "2592\n",
        "1944\n"
       ]
      }
     ],
     "prompt_number": 4
    },
    {
     "cell_type": "code",
     "collapsed": false,
     "input": [
      "infile  = \"withTube.jpg\"#\"mirror.jpg\"\n",
      "outfile = \"toob.jpg\"\n",
      "cmd = \"bash fisheye2pano -w \"+ str(image.size().height()) + \" \" +infile+ \" \" + outfile\n",
      "print cmd\n",
      "os.system(cmd)"
     ],
     "language": "python",
     "metadata": {},
     "outputs": [
      {
       "output_type": "stream",
       "stream": "stdout",
       "text": [
        "bash fisheye2pano -w 1944 withTube.jpg toob.jpg\n"
       ]
      },
      {
       "metadata": {},
       "output_type": "pyout",
       "prompt_number": 23,
       "text": [
        "0"
       ]
      }
     ],
     "prompt_number": 23
    },
    {
     "cell_type": "code",
     "collapsed": false,
     "input": [],
     "language": "python",
     "metadata": {},
     "outputs": [],
     "prompt_number": 14
    },
    {
     "cell_type": "code",
     "collapsed": false,
     "input": [],
     "language": "python",
     "metadata": {},
     "outputs": []
    }
   ],
   "metadata": {}
  }
 ]
}